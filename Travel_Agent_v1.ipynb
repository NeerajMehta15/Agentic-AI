{
  "nbformat": 4,
  "nbformat_minor": 0,
  "metadata": {
    "colab": {
      "provenance": [],
      "authorship_tag": "ABX9TyOrnzOuV2O9TNfLS7FiogF+",
      "include_colab_link": true
    },
    "kernelspec": {
      "name": "python3",
      "display_name": "Python 3"
    },
    "language_info": {
      "name": "python"
    }
  },
  "cells": [
    {
      "cell_type": "markdown",
      "metadata": {
        "id": "view-in-github",
        "colab_type": "text"
      },
      "source": [
        "<a href=\"https://colab.research.google.com/github/NeerajMehta15/Agentic-AI/blob/main/Travel_Agent_v1.ipynb\" target=\"_parent\"><img src=\"https://colab.research.google.com/assets/colab-badge.svg\" alt=\"Open In Colab\"/></a>"
      ]
    },
    {
      "cell_type": "markdown",
      "source": [
        "- We are building a Travel Agent. This is V1 without and tool integration"
      ],
      "metadata": {
        "id": "hPGLv8ubHjgh"
      }
    },
    {
      "cell_type": "code",
      "execution_count": null,
      "metadata": {
        "id": "8nJgM9XLGUau"
      },
      "outputs": [],
      "source": [
        "%%capture --no-stderr\n",
        "%pip install -U langgraph langsmith langchain_groq"
      ]
    },
    {
      "cell_type": "code",
      "source": [
        "%%capture --no-stderr\n",
        "%pip install -U tavily-python langchain_community"
      ],
      "metadata": {
        "id": "vgDueAXwVhY0"
      },
      "execution_count": null,
      "outputs": []
    },
    {
      "cell_type": "code",
      "source": [
        "import os\n",
        "import json\n",
        "from typing import Dict, List, Any, Annotated\n",
        "from typing_extensions import TypedDict\n",
        "\n",
        "import langgraph as lg\n",
        "from langgraph.graph import StateGraph, START, END\n",
        "from langgraph.graph.message import add_messages\n",
        "\n",
        "from langchain_core.messages import AIMessage, HumanMessage\n",
        "from langchain_core.prompts import ChatPromptTemplate, MessagesPlaceholder\n",
        "\n",
        "from langchain_groq import ChatGroq"
      ],
      "metadata": {
        "id": "iA99O84z4YDR"
      },
      "execution_count": null,
      "outputs": []
    },
    {
      "cell_type": "code",
      "source": [
        "from google.colab import userdata\n",
        "Groq_key = userdata.get('Groq_key_v2')\n",
        "Tavily_key = userdata.get('Tavily')"
      ],
      "metadata": {
        "id": "5L5jIn53MUGS"
      },
      "execution_count": null,
      "outputs": []
    },
    {
      "cell_type": "code",
      "source": [
        "#Initializing LLM that can be used for this agent, here we are using gpt-3.5 turbo.\n",
        "#Defining chatbot function and how it can input the message\n",
        "llm = ChatGroq(model_name=\"llama-3.3-70b-versatile\",  groq_api_key=Groq_key)"
      ],
      "metadata": {
        "id": "S2LtC5eFRNun"
      },
      "execution_count": null,
      "outputs": []
    },
    {
      "cell_type": "code",
      "source": [
        "# Define dictionary templates (for documentation purposes)\n",
        "CONSTRAINTS_TEMPLATE = {\n",
        "    \"destination\": \"Barcelona, Spain\",\n",
        "    \"start_date\": \"2025-04-15\",\n",
        "    \"end_date\": \"2025-04-20\",\n",
        "    \"budget\": 2000.0,\n",
        "    \"interests\": [\"architecture\", \"food\", \"beach\"],\n",
        "    \"accommodation_preference\": \"mid-range hotel\",\n",
        "    \"pace\": \"moderate\",\n",
        "    \"dietary_restrictions\": [\"vegetarian\"],\n",
        "    \"transport_preference\": \"public transportation\"\n",
        "}\n",
        "\n",
        "ACTIVITY_TEMPLATE = {\n",
        "    \"name\": \"Sagrada Familia Tour\",\n",
        "    \"description\": \"Guided tour of Gaudí's masterpiece\",\n",
        "    \"location\": \"Sagrada Familia, Barcelona\",\n",
        "    \"duration_hours\": 2.5,\n",
        "    \"cost\": 25.0,\n",
        "    \"category\": \"architecture\",\n",
        "    \"suitable_for_interests\": [\"architecture\"]\n",
        "}\n",
        "\n",
        "DAY_PLAN_TEMPLATE = {\n",
        "    \"date\": \"2025-04-15\",\n",
        "    \"activities\": [ACTIVITY_TEMPLATE],\n",
        "    \"accommodation\": \"Hotel Barcelona Central\",\n",
        "    \"total_day_cost\": 150.0,\n",
        "    \"transportation\": [\"metro\", \"walking\"]\n",
        "}\n",
        "\n",
        "ITINERARY_TEMPLATE = {\n",
        "    \"destination\": \"Barcelona, Spain\",\n",
        "    \"days\": [DAY_PLAN_TEMPLATE],\n",
        "    \"total_cost\": 1850.0,\n",
        "    \"remaining_budget\": 150.0\n",
        "}"
      ],
      "metadata": {
        "id": "hEucoKpe4ywX"
      },
      "execution_count": null,
      "outputs": []
    },
    {
      "cell_type": "code",
      "source": [
        "#Helper function to parse JSON from LLM output\n",
        "def parse_json_from_llm(text):\n",
        "    \"\"\"Extract and parse JSON from LLM output text\"\"\"\n",
        "    try:\n",
        "        # Try to parse the entire text as JSON first\n",
        "        return json.loads(text)\n",
        "    except json.JSONDecodeError:\n",
        "        # If that fails, try to extract JSON between triple backticks\n",
        "        import re\n",
        "        json_match = re.search(r'```json\\n(.*?)\\n```', text, re.DOTALL)\n",
        "        if json_match:\n",
        "            try:\n",
        "                return json.loads(json_match.group(1))\n",
        "            except json.JSONDecodeError:\n",
        "                pass\n",
        "\n",
        "        # Try to extract any JSON-like structure\n",
        "        json_match = re.search(r'({.*})', text, re.DOTALL)\n",
        "        if json_match:\n",
        "            try:\n",
        "                return json.loads(json_match.group(1))\n",
        "            except json.JSONDecodeError:\n",
        "                pass\n",
        "\n",
        "        # If all else fails, return the original text\n",
        "        raise ValueError(f\"Could not parse JSON from LLM output: {text}\")\n"
      ],
      "metadata": {
        "id": "F1LAFzEs5O9t"
      },
      "execution_count": null,
      "outputs": []
    },
    {
      "cell_type": "code",
      "source": [
        "# 1. Constraint Modeling Agent\n",
        "constraint_modeling_template = ChatPromptTemplate.from_messages([\n",
        "    (\"system\", \"\"\"You are a Travel Constraint Specialist. Your job is to:\n",
        "    1. Extract user travel preferences and constraints from their input\n",
        "    2. Apply common-sense constraints (e.g., travel times, logical schedules, local customs)\n",
        "    3. Create a structured representation of all constraints\n",
        "\n",
        "    Return your response as a JSON object with these keys:\n",
        "    - destination: string (where they want to go)\n",
        "    - start_date: string in YYYY-MM-DD format\n",
        "    - end_date: string in YYYY-MM-DD format\n",
        "    - budget: number (total budget in USD)\n",
        "    - interests: array of strings\n",
        "    - accommodation_preference: string\n",
        "    - pace: string (relaxed, moderate, busy)\n",
        "    - dietary_restrictions: array of strings or null\n",
        "    - transport_preference: string or null\n",
        "\n",
        "    Ensure you capture all essential details and add reasonable defaults for missing information.\n",
        "    Return ONLY valid JSON without any other text or explanation.\n",
        "    \"\"\"),\n",
        "    MessagesPlaceholder(variable_name=\"chat_history\"),(\"human\", \"{user_input}\"),\n",
        "])\n",
        "\n",
        "# Function to create constraint modeling node\n",
        "def constraint_modeling_node():\n",
        "    @lg.node\n",
        "    def process_constraints(state: Dict[str, Any]) -> Dict[str, Any]:\n",
        "        chat_history = state.get(\"chat_history\", [])\n",
        "        user_input = state.get(\"user_input\", \"\")\n",
        "\n",
        "        try:\n",
        "            response = llm.invoke(constraint_modeling_template.format_messages(chat_history=chat_history,user_input=user_input))\n",
        "            constraints = parse_json_from_llm(response.content)\n",
        "            return {\"constraints\": constraints, \"status\": \"success\"}\n",
        "        except Exception as e:\n",
        "            return {\"error\": str(e), \"status\": \"error\"}\n",
        "\n",
        "    return process_constraints\n"
      ],
      "metadata": {
        "id": "eF-G1b_95Z2r"
      },
      "execution_count": null,
      "outputs": []
    },
    {
      "cell_type": "code",
      "source": [
        "# 2. Planning Agent\n",
        "planning_template = ChatPromptTemplate.from_messages([\n",
        "    (\"system\", \"\"\"You are a Travel Itinerary Planner. Your job is to:\n",
        "    1. Create a day-by-day travel plan based on user constraints\n",
        "    2. Ensure the plan is logistically feasible (considering travel times, opening hours)\n",
        "    3. Structure activities for each day within the given time frame\n",
        "    4. Balance the pace according to user preferences\n",
        "    5. Stay within budget constraints\n",
        "\n",
        "    Return a complete and well-organized travel itinerary as a JSON object with these keys:\n",
        "    - destination: string\n",
        "    - days: array of day objects, each containing:\n",
        "      - date: string in YYYY-MM-DD format\n",
        "      - activities: array of activity objects, each containing:\n",
        "        - name: string\n",
        "        - description: string\n",
        "        - location: string\n",
        "        - duration_hours: number\n",
        "        - cost: number\n",
        "        - category: string\n",
        "        - suitable_for_interests: array of strings\n",
        "      - accommodation: string\n",
        "      - total_day_cost: number\n",
        "      - transportation: array of strings\n",
        "    - total_cost: number\n",
        "    - remaining_budget: number\n",
        "\n",
        "    Return ONLY valid JSON without any other text or explanation.\n",
        "    \"\"\"),\n",
        "    (\"human\", \"\"\"\n",
        "    Create a detailed travel itinerary based on these constraints:\n",
        "    {constraints_json}\n",
        "\n",
        "    Make sure to balance activities each day according to the preferred pace,\n",
        "    and ensure the total cost stays within budget.\n",
        "    \"\"\"),\n",
        "])\n",
        "\n",
        "# Function to create planning node\n",
        "def planning_node():\n",
        "    @lg.node\n",
        "    def create_plan(state: Dict[str, Any]) -> Dict[str, Any]:\n",
        "        constraints = state.get(\"constraints\", {})\n",
        "\n",
        "        try:\n",
        "            # Convert constraints to JSON string for the prompt\n",
        "            constraints_json = json.dumps(constraints)\n",
        "            response = llm.invoke(planning_template.format_messages(constraints_json=constraints_json))\n",
        "            itinerary = parse_json_from_llm(response.content)\n",
        "            return {\"itinerary\": itinerary, \"status\": \"success\"}\n",
        "        except Exception as e:\n",
        "            return {\"error\": str(e), \"status\": \"error\"}\n",
        "\n",
        "    return create_plan\n"
      ],
      "metadata": {
        "id": "3PLIYTxr6FH7"
      },
      "execution_count": null,
      "outputs": []
    },
    {
      "cell_type": "code",
      "source": [
        " #3. Recommendation Agent\n",
        "recommendation_template = ChatPromptTemplate.from_messages([\n",
        "    (\"system\", \"\"\"You are a Travel Recommendation Specialist. Your job is to:\n",
        "    1. Enhance an existing travel itinerary with personalized recommendations\n",
        "    2. Suggest specific restaurants, attractions, and activities based on user interests\n",
        "    3. Add local insights that match the user's preferences\n",
        "    4. Ensure all recommendations maintain budget constraints\n",
        "\n",
        "    You will receive an itinerary and should return an ENHANCED version of that itinerary\n",
        "    with the same JSON structure but with added or improved activities and details.\n",
        "\n",
        "    The JSON structure should have these keys:\n",
        "    - destination: string\n",
        "    - days: array of day objects, each containing:\n",
        "      - date: string in YYYY-MM-DD format\n",
        "      - activities: array of activity objects, each containing:\n",
        "        - name: string\n",
        "        - description: string\n",
        "        - location: string\n",
        "        - duration_hours: number\n",
        "        - cost: number\n",
        "        - category: string\n",
        "        - suitable_for_interests: array of strings\n",
        "      - accommodation: string\n",
        "      - total_day_cost: number\n",
        "      - transportation: array of strings\n",
        "    - total_cost: number\n",
        "    - remaining_budget: number\n",
        "\n",
        "    Return ONLY valid JSON without any other text or explanation.\n",
        "    \"\"\"),\n",
        "    (\"human\", \"\"\"\n",
        "    Enhance this travel itinerary with personalized recommendations:\n",
        "    {itinerary_json}\n",
        "\n",
        "    User constraints and preferences:\n",
        "    {constraints_json}\n",
        "\n",
        "    Focus on providing specific, personalized recommendations that match their interests.\n",
        "    \"\"\"),\n",
        "])\n",
        "\n",
        "# Function to create recommendation node\n",
        "def recommendation_node():\n",
        "    @lg.node\n",
        "    def enhance_with_recommendations(state: Dict[str, Any]) -> Dict[str, Any]:\n",
        "        constraints = state.get(\"constraints\", {})\n",
        "        itinerary = state.get(\"itinerary\", {})\n",
        "\n",
        "        try:\n",
        "            # Convert to JSON strings for the prompt\n",
        "            constraints_json = json.dumps(constraints)\n",
        "            itinerary_json = json.dumps(itinerary)\n",
        "\n",
        "            # Get enhanced recommendations\n",
        "            response = llm.invoke(recommendation_template.format_messages(constraints_json=constraints_json,itinerary_json=itinerary_json))\n",
        "\n",
        "            enhanced_itinerary = parse_json_from_llm(response.content)\n",
        "            return {\"enhanced_itinerary\": enhanced_itinerary, \"status\": \"success\"}\n",
        "        except Exception as e:\n",
        "            return {\"error\": str(e), \"status\": \"error\"}\n",
        "\n",
        "    return enhance_with_recommendations\n"
      ],
      "metadata": {
        "id": "Ahwrj2jw6xLq"
      },
      "execution_count": null,
      "outputs": []
    },
    {
      "cell_type": "code",
      "source": [
        "# 4. Response formatting node\n",
        "def formatting_node():\n",
        "    @lg.node\n",
        "    def format_response(state: Dict[str, Any]) -> Dict[str, Any]:\n",
        "        enhanced_itinerary = state.get(\"enhanced_itinerary\", {})\n",
        "        constraints = state.get(\"constraints\", {})\n",
        "\n",
        "        try:\n",
        "            # Create a user-friendly response\n",
        "            response_template = ChatPromptTemplate.from_messages([\n",
        "                (\"system\", \"\"\"You are a helpful Travel Assistant. Format the travel itinerary\n",
        "                in a clear, well-structured, and engaging way for the user. Include:\n",
        "                - A summary of the trip\n",
        "                - Daily breakdown with activities\n",
        "                - Cost information\n",
        "                - Any special recommendations\n",
        "\n",
        "                Make it visually appealing and easy to read.\n",
        "                \"\"\"),\n",
        "                (\"human\", \"\"\"\n",
        "                Please format this travel itinerary for the user:\n",
        "                {itinerary_json}\n",
        "\n",
        "                Based on these user preferences:\n",
        "                {constraints_json}\n",
        "                \"\"\"),\n",
        "            ])\n",
        "\n",
        "            response = llm.invoke(response_template.format_messages(itinerary_json=json.dumps(enhanced_itinerary),constraints_json=json.dumps(constraints)))\n",
        "\n",
        "            return {\"formatted_response\": response.content, \"status\": \"success\"}\n",
        "        except Exception as e:\n",
        "            return {\"error\": str(e), \"status\": \"error\"}\n",
        "\n",
        "    return format_response"
      ],
      "metadata": {
        "id": "DpVM1jQP7ay0"
      },
      "execution_count": null,
      "outputs": []
    },
    {
      "cell_type": "code",
      "source": [
        "# Creating the graph\n",
        "def create_travel_agent_graph():\n",
        "    # Initialize the graph (without 'name' argument)\n",
        "    workflow = StateGraph(input=str, output=str)\n",
        "\n",
        "    # Add nodes\n",
        "    workflow.add_node(\"constraint_modeling\", constraint_modeling_node())\n",
        "    workflow.add_node(\"planning\", planning_node())\n",
        "    workflow.add_node(\"recommendation\", recommendation_node())\n",
        "    workflow.add_node(\"format_response\", formatting_node())\n",
        "\n",
        "    # Add edges\n",
        "    workflow.add_edge(\"constraint_modeling\", \"planning\")\n",
        "    workflow.add_edge(\"planning\", \"recommendation\")\n",
        "    workflow.add_edge(\"recommendation\", \"format_response\")\n",
        "    workflow.add_edge(\"format_response\", END)\n",
        "\n",
        "    # Compile the graph\n",
        "    app = workflow.compile()\n",
        "    return app\n"
      ],
      "metadata": {
        "id": "DqzukchG7ldO"
      },
      "execution_count": null,
      "outputs": []
    },
    {
      "cell_type": "code",
      "source": [
        "from IPython.display import Image, display\n",
        "\n",
        "try:\n",
        "    display(Image(app.get_graph().draw_mermaid_png()))\n",
        "except Exception:\n",
        "    pass"
      ],
      "metadata": {
        "id": "hz9hLJTa8uMZ"
      },
      "execution_count": null,
      "outputs": []
    },
    {
      "cell_type": "code",
      "source": [
        "# Function to run the travel planning system\n",
        "def run_travel_planner(user_input: str):\n",
        "    travel_agent = create_travel_agent_graph()\n",
        "    result = travel_agent.invoke({\"user_input\": user_input})\n",
        "\n",
        "    if \"formatted_response\" in result:\n",
        "        return result[\"formatted_response\"]\n",
        "    elif \"error\" in result:\n",
        "        return f\"Error: {result['error']}\"\n",
        "    else:\n",
        "        return \"Something went wrong with the travel planning system.\""
      ],
      "metadata": {
        "id": "FCl6tJdN8nHU"
      },
      "execution_count": null,
      "outputs": []
    },
    {
      "cell_type": "code",
      "source": [
        "if __name__ == \"__main__\":\n",
        "    user_query = \"\"\"\n",
        "    I want to plan a trip to Barcelona, Spain for 5 days from April 15 to April 20, 2025.\n",
        "    My budget is $2000. I'm interested in architecture, food, and beach activities.\n",
        "    I prefer a moderate pace of travel and would like to stay in a mid-range hotel.\n",
        "    I'm vegetarian and prefer to use public transportation.\n",
        "    \"\"\"\n",
        "\n",
        "    response = run_travel_planner(user_query)\n",
        "    print(response)"
      ],
      "metadata": {
        "id": "OWVfnv0D9AlR"
      },
      "execution_count": null,
      "outputs": []
    }
  ]
}